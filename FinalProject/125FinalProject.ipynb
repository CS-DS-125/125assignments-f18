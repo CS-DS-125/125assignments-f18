{
 "cells": [
  {
   "cell_type": "markdown",
   "metadata": {},
   "source": [
    "# Final Project: Notebook and Presentation Video "
   ]
  },
  {
   "cell_type": "markdown",
   "metadata": {},
   "source": [
    "***\n",
    "***\n",
    "## Project Description\n",
    "Similar to previous assignments, you will use Python to create your own original analysis of an existing real-world data set. You will create a Notebook documenting your research question, your process, and conclusions. Unlike previous assignments, you produce a project that includes a linear regression and \"makes a prediction\". \n",
    "\n",
    "You will also produce a short narrated video that presents your findings. The video will be presented to the class and rated by the class and by the instructors.\n",
    "\n",
    "This is an individual project. You may not work with anyone else on this assignment.\n",
    "\n",
    "## Purpose of the Assignment\n",
    "To demonstrate your ability to:\n",
    "* Develop a research question\n",
    "* Explore data using descriptive statistics and visualizations\n",
    "* Draw appropriate conclusions from data\n",
    "* Demonstrate the skills you have developed during the semester\n",
    "\n",
    "## Selecting and Using a Dataset\n",
    "* You may use data from any of the following sources:\n",
    "   * [CORGIS project](https://think.cs.vt.edu/corgis/csv/index.html).\n",
    "   * [Data is Plural](https://docs.google.com/spreadsheets/d/1wZhPLMCHKJvwOkP4juclhjFgqIY8fQFMemwKL2c64vk/edit#gid=0)\n",
    "   * [FiveThirtyEight](https://github.com/fivethirtyeight/data)\n",
    "* Please note that analyses you conduct using data may not duplicate any published analyses or analyses presented in class. \n",
    "* You may not use the following datasets: ‘broadway’, ‘state crime’, or 'recent-grads'.\n",
    "* If you are interested in using your own dataset, you will need to get permission from the instructors.\n",
    "* To work with any dataset you select, you will need to upload it to your working folder on jupyterlab.  You can do this by navigating the jupyterhub file browser into your working directory, then dragging a file from a folder on your computer (or on your desktop) into your web browser window, dropping it in the file browser area.  We will also show you how to do this in class.\n",
    "* Since you are required to include a linear regression you will need to find datasets that contain at least two continuous variables.\n",
    "\n",
    "\n",
    "## Identifying a Research Question\n",
    "Now the tough part. Explore your data. Use visualizations and descriptive statistics to get a broad sense of the data. Then get creative, and think of an interesting question to pursue using the data. During this process you may generate many questions. However, you are on only going to submit one question for this assignment. The question you choose should address something that isn't immediately obvious about the data set. For example, if you gave us a count of the number of plays and the number of musicals in the broadway dataset, and a bar graph showing the same, you would not be demonstrating your ability to develop an interesting research question or to explore the data in any meaningful way.\n",
    "\n",
    "\n",
    "## Final Project Notebook Requirements\n",
    "* You must use **at least one linear regression visualization**\n",
    "* Your submitted notebook must clearly demonstrate your entire process using Markdown and Code cells\n",
    "* You may not submit a data visualization that has appeared in any way in any of the class materials\n",
    "* Your descriptive statistics and visualization must be appropriate for the type of data you are working with and the type of question you are trying to answer\n",
    "* Your visualization must be appropriately titled, your axes must be labelled\n",
    "* Your visualization should clearly convey meaningful information about the dataset\n",
    "* You must provide a clear and succinct explanation of your visualization and descriptive stats and how they relate to your research question\n",
    "* For further details please see the grading rubric included with this document.\n",
    "\n",
    "## Final Project Presentation Requirements\n",
    "* Your presentation must clearly and succinctly explain your research question, data source, your analyses and your conclusions\n",
    "* Your presentation may be no more than 5 minutes in length and no less than 2 minutes in length (there is a 20% penalty for failure to meet this requirement)\n",
    "* We recommend you make your presentation using [useloom.com](https://www.useloom.com/); however, you may use other software if you like. Getting the software to work is your responsibility. Software and other technical failures should be addressed by the student in advance of the deadline. All late penalties will apply to project that are late for any reason.\n",
    "* You must provide a link to your presentation video that streams from either youtube or useloom. Remember to test your link to ensure your video works and can be viewed publically by others. \n",
    "* For further details please see the grading rubric included with this document.\n",
    "\n",
    "## Help!\n",
    "These sorts of open-ended assignments can be challenging. Please ask us for help. Talk to us in person after class, come to office hours, or post a question to Piazza.\n",
    "\n",
    "## Submitting\n",
    "\n",
    "The submission code is at the end of this notebook. Be aware that if you execute the entire notebook, the final block will likely need your verification and will wait for it rather than running additional code."
   ]
  },
  {
   "cell_type": "markdown",
   "metadata": {},
   "source": [
    "***\n",
    "***\n",
    "\n",
    "## Grading Rubric for Notebook and Project Presentation\n",
    " \n",
    "### General Guidelines\n",
    "* The due date and time is provided in Moodle.  Any code submitted after that time will have the late penalty from the syllabus applied.\n",
    "* The evaluator will use informed judgement in assessing the notebook.\n",
    "* In all cases a rating of Not Met is given if the required element is not recognizably present. It is the responsibility of the student to include each element.\n",
    "* Ratings converted to percentages as follows: Not Met, 0%; Poor, 60%, Adequate 80%, Excellent 100%\n",
    " \n",
    "### Compelling Research Question (5%):\n",
    "* Not Met: The research question was absent or had no clear connection to the assignment.\n",
    "* Poor: The research question were confusing or ambiguous.\n",
    "* Adequate: The research question was well defined, but not interesting or well elaborated.\n",
    "* Excellent: The research question was clear, well defined, interesting, and well elaborated.\n",
    "\n",
    "### Documentation and Statement of Ethics (5%): \n",
    "* Not Met: The documentation and/or statement of ethics was absent or had no clear connection to the assignment.\n",
    "* Poor: The documentation and/or statement of ethics was confusing or ambiguous.\n",
    "* Adequate: The documentation and/or statement of ethics was complete and clear, but not well elaborated.\n",
    "* Excellent: The documentation and/or statement of ethics was complete, clear, thougthful, and well elaborated.\n",
    "\n",
    "### Code Specifications and Correctness (20%):\n",
    "For more details on Specifications and Correctness see the [course programming rubric](https://sun.iwu.edu/~mliffito/class/2018f/csds125/rubric.php). \n",
    "* Not Met: Many or most code blocks only function correctly in very limited cases or not at all.\n",
    "* Poor: Significant details of the specification are violated, some code blocks exhibit incorrect behavior.\n",
    "* Adequate: Minor details of the program specification are violated.\n",
    "* Excellent: No errors, all code blocks work correctly and meets the specifications.\n",
    "\n",
    "### Code Readability and Documentation (5%): \n",
    "Documentation includes Markdown cells and inline comments in code cells that explain what the code does. \n",
    "Readability includes using indentation consistently, adding whitespace (blank lines, spaces) where appropriate, giving variables meaningful names, and organizing the code well.\n",
    "For more details on Readability and Documentation see the [course programming rubric](https://sun.iwu.edu/~mliffito/class/2018f/csds125/rubric.php). \n",
    "* Not Met: Code is not documented, and/or is not readable.\n",
    "* Poor: Code is poorly documented, and/or is difficult to read.\n",
    "* Adequate: Code is documented and is readable, but may contains minor issues.\n",
    "* Excellent: Code is well documented and is clearly readable.\n",
    "\n",
    "### Statistics (15%): The notebook used appropriate statistics to describe the data and answer the research question.\n",
    "* Not Met: The statistics were absent or had no clear connection to the assignment.\n",
    "* Poor: The statistics were inappropriate for the questions, or was incorrectly interpreted.\n",
    "* Adequate: The statistics and the interpretation of the statistics were generally correct but lacked some degree of clarity or meaningful relationship.\n",
    "* Excellent: The statistics and the interpretation of the statistics were was appropriate to the questions, and were interpreted correctly and clearly to answer the question.\n",
    "\n",
    "### Visualization Selection (15%): The notebook used a visualization appropriate for answering the research question.\n",
    "* Not Met: The visualization was absent or had no clear connection to the assignment.\n",
    "* Poor: Visualization was inappropriate to the questions, or was incorrectly interpreted.\n",
    "* Adequate: The kind of visualization, its interpretations, and the answer were generally correct but lacked some degree of clarity or meaningful relationship.\n",
    "* Excellent: The visualization was appropriate to the questions, and was interpreted correctly and clearly to answer the question.\n",
    "\n",
    "### Visualization Presentation (5%): Visualizations presented with appropriate formatting (y-axis scaling, labelling axes, title, labelled categories, etc).\n",
    "* Not Met: Visualization formatting was absent.\n",
    "* Poor: Visualization formatting was partially absent or inappropriate.\n",
    "* Adequate: Visualization formatting generally correct but omitted small elements or had some small elements that could be improved.\n",
    "* Excellent:  Visualization formatting was correct and complete.\n",
    "\n",
    "### Demonstrating Analysis Skills (10%): The notebook demonstrates a broad set of analysis skills that are used appropriately.\n",
    "* Not Met: Analysis demonstrates little mastery of any skills.\n",
    "* Poor: Analysis demonstrates incomplete mastery or mastery of only a few basic skills. \n",
    "* Adequate: Analysis demonstrates good mastery of multiple skills.\n",
    "* Excellent: Analysis was thorough, comprehensive, and demonstrates complete mastery of multiple skills.\n",
    "\n",
    "### Notebook Design (5%): The notebook was clear, succinct, and appropriately designed.\n",
    "* Not Met: The notebook had no clear connection to the assignment.\n",
    "* Poor: The statements were confusing or ambiguous; the notebook was difficult to read or contained distracting or irrelevant materials.\n",
    "* Adequate: The statements were generally clear but were awkwardly phrased or overly verbose; the notebook was easily readable.\n",
    "* Excellent: The statements of the questions and answers clearly understandable; the notebook used a layout that was easily readable and attractive visually.\n",
    "\n",
    "### Video Presentation: Research Question (4%).\n",
    "* Not Met: The research question was absent or had no clear connection to the assignment.\n",
    "* Poor: The research question were confusing or ambiguous.\n",
    "* Adequate: The research question was well-defined, but not interesting or well-elaborated.\n",
    "* Excellent: The research question was clear, well-defined, interesting, and well-elaborated.\n",
    "\n",
    "### Video Presentation: Analysis (4%).\n",
    "* Not Met: The analysis was absent or had no clear connection to the assignment.\n",
    "* Poor: The analysis was confusing or ambiguous.\n",
    "* Adequate: The analysis was mostly clear, well-described, and interesting.\n",
    "* Excellent: The analysis was clear, well-described, and interesting.\n",
    "\n",
    "### Video Presentation: Conclusion (4%).\n",
    "* Not Met: The conclusion was absent or had no clear connection to the assignment.\n",
    "* Poor: The conclusion was confusing or ambiguous.\n",
    "* Adequate: The conclusion was mostly clear and well-described. \n",
    "* Excellent: The conclusion was clear, well-described, and provided meaningful and interesting summary of the project.\n",
    "\n",
    "### Video Presentation: Video and Audio Quality (3%).\n",
    "* Not Met: The presentation video and/or audio made it very difficult to follow the presentation.\n",
    "* Poor: The presentation video and/or audio made it somewhat difficult to follow the presentation.\n",
    "* Adequate: The presentation video and/or audio were mostly clear.\n",
    "* Excellent: The presentation video and/or audio were clear and were thoughtfully used to enhance the presentation."
   ]
  },
  {
   "cell_type": "markdown",
   "metadata": {},
   "source": [
    "***\n",
    "***\n",
    "***\n",
    "***"
   ]
  },
  {
   "cell_type": "markdown",
   "metadata": {},
   "source": [
    "**Edit the markdown blocks below. Replace the instructions for each section with information about your project.**\n",
    "\n",
    "# Title of Your Analysis (replace this with your title)\n",
    "* Include your name and the date here\n",
    "* The title should succinctly convey the key question or finding.\n",
    "* In a few sentences identify the research question you will explore with the dataset. Explain why the research question is of interest to you, and may be of interest to a potential audience.\n"
   ]
  },
  {
   "cell_type": "markdown",
   "metadata": {},
   "source": [
    "***\n",
    "## Authorship and Resources Used\n",
    "* Include your name here\n",
    "* If you received any assistance from anyone else, state who you consulted and specifically how they helped\n",
    "* If you used any other resources, state what they were and specifically how they helped, include links to the resources. [Markdown links use this formatting.](https://github.com/adam-p/markdown-here/wiki/Markdown-Cheatsheet#links)"
   ]
  },
  {
   "cell_type": "markdown",
   "metadata": {},
   "source": [
    "***\n",
    "## Data Description and Source\n",
    "* In a few sentences describe the dataset you selected for analysis.\n",
    "* Data attribution: describe where the data came from, provide links."
   ]
  },
  {
   "cell_type": "markdown",
   "metadata": {},
   "source": [
    "***\n",
    "## Ethics\n",
    "* In a few sentences identify any potential harm that might results from your analysis. If you see no possible harm, state your reasons. If you do see potential harm, identify who might be at risk. "
   ]
  },
  {
   "cell_type": "markdown",
   "metadata": {},
   "source": [
    "***\n",
    "## Import Libraries and Set Preferences for Visualization"
   ]
  },
  {
   "cell_type": "code",
   "execution_count": null,
   "metadata": {},
   "outputs": [],
   "source": [
    "# enter and test your code here"
   ]
  },
  {
   "cell_type": "markdown",
   "metadata": {},
   "source": [
    "***\n",
    "## Read and Verify Data"
   ]
  },
  {
   "cell_type": "code",
   "execution_count": null,
   "metadata": {},
   "outputs": [],
   "source": [
    "# enter and test your code here"
   ]
  },
  {
   "cell_type": "markdown",
   "metadata": {},
   "source": [
    "***\n",
    "## Descriptive Statistics and Visualizations\n",
    "* In each step you need to clearly articulate what you are doing, why you are doing it, and what you have learned from the step\n",
    "* Provide a specific clear and concise justication for why the types of visualization(s) you chose are well suited to the data and your question."
   ]
  },
  {
   "cell_type": "code",
   "execution_count": null,
   "metadata": {},
   "outputs": [],
   "source": [
    "# enter and test your code here"
   ]
  },
  {
   "cell_type": "markdown",
   "metadata": {},
   "source": [
    "***\n",
    "## Conclusions\n",
    "* Provide a summary of your results and a discussion of what has been learned from your project"
   ]
  },
  {
   "cell_type": "markdown",
   "metadata": {},
   "source": [
    "***\n",
    "***\n",
    "***\n",
    "***\n",
    "## Submitting\n",
    "\n",
    "Once you're finished, select \"Save Notebook\" in the File menu (or press the Save icon, or press <kbd>Ctrl+S</kbd>) and then execute the cell below. The result will contain a link that you can use to check that your assignment has been submitted successfully. You can re-run the cell and submit more than once before the deadline. We will only grade your final submission.\n",
    "\n",
    "*[It may print some errors saying \"Javascript Error: IPython is not defined\"; those may safely be ignored.]*"
   ]
  },
  {
   "cell_type": "code",
   "execution_count": null,
   "metadata": {},
   "outputs": [],
   "source": [
    "# This cell is just for submitting your work.  Do not change anything in it.\n",
    "from client.api.notebook import Notebook\n",
    "ok = Notebook('A8.ok')\n",
    "import os\n",
    "if not os.path.exists(os.path.join(os.environ.get(\"HOME\"), \".config/ok/auth_refresh\")):\n",
    "    ok.auth(force=True)\n",
    "else:\n",
    "    ok.auth(inline=True)\n",
    "_ = ok.submit()"
   ]
  }
 ],
 "metadata": {
  "kernelspec": {
   "display_name": "Python 3",
   "language": "python",
   "name": "python3"
  },
  "language_info": {
   "codemirror_mode": {
    "name": "ipython",
    "version": 3
   },
   "file_extension": ".py",
   "mimetype": "text/x-python",
   "name": "python",
   "nbconvert_exporter": "python",
   "pygments_lexer": "ipython3",
   "version": "3.6.5"
  }
 },
 "nbformat": 4,
 "nbformat_minor": 2
}
