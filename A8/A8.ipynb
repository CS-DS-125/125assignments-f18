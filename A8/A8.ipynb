{
 "cells": [
  {
   "cell_type": "markdown",
   "metadata": {},
   "source": [
    "# Assignment 8: Deeper Into Data Analysis and Visualization"
   ]
  },
  {
   "cell_type": "markdown",
   "metadata": {},
   "source": [
    "***\n",
    "***\n",
    "## Project Description\n",
    "Similar to previous assignments, you will use Python to create your own original analysis of an existing real-world data set. You will create a Notebook documenting your research question, your process, and conclusions. Unlike previous assignments, this assignment also requires you to examine continuous data.\n",
    "\n",
    "This is an individual project. You may not work with anyone else on this assignment.\n",
    "\n",
    "## Purpose of the Assignment\n",
    "To demonstrate your ability to:\n",
    "* Develop a research question involving correlational data\n",
    "* Explore correlational data using descriptive statistics and visualizations\n",
    "* Draw appropriate conclusions from data\n",
    "\n",
    "## Selecting and Using a Dataset\n",
    "* You may not use the following datasets: ‘broadway’, ‘state crime’, or 'recent-grads'. \n",
    "* Choose and then download a dataset to work on using this link: [CORGIS project](https://think.cs.vt.edu/corgis/csv/index.html). (If you want to use a non-CORGIS dataset you must get approval from an instructor first).\n",
    "* To work with any dataset you select, you will need to upload it to your 125assignments-f18/A8 folder on jupyterlab.  You can do this by navigating the jupyterhub file browser into your A8 directory, then dragging a file from a folder on your computer (or on your desktop) into your web browser window, dropping it in the file browser area.  We will also show you how to do this in class.\n",
    "* Since you are required to include a scatter matrix by group (see below) you will need to find datasets that contain variables you can correlate as well as groups.\n",
    "\n",
    "## Identifying a Research Question\n",
    "Now the tough part. Explore your data. Use visualizations and descriptive statistics to get a broad sense of the data. Then get creative, and think of an interesting question to pursue using the data. During this process you may generate many questions. However, you are on only going to submit one question for this assignment. The question you choose should address something that isn't immediately obvious about the data set. For example, if you gave us a count of the number of plays and the number of musicals in the broadway dataset, and a bar graph showing the same, you would not be demonstrating your ability to develop an interesting research question or to explore the data in any meaningful way.\n",
    "\n",
    "## Project Requirements\n",
    "* You must use **at least one scatter matrix visualization** that looks at associations **by group** (see 7.4.4 in the textbook for an example)\n",
    "* Your submitted notebook must clearly demonstrate your entire process using Markdown and Code cells\n",
    "* You may not submit a visualization that appeared in any way in any of the class materials\n",
    "* Your descriptive statistics and visualization must be appropriate for the type of data you are working with and the type of question you are trying to answer\n",
    "* Your visualization must be appropriately titled, your axes must be labelled\n",
    "* Your visualization should clearly convey meaningful information about the dataset\n",
    "* You must provide a clear and succinct explanation of your visualization and descriptive stats and how they relate to your research question\n",
    "* Additional specifics requirements are included in the markdown comments in individaul notebook section provided below \n",
    "\n",
    "## Help!\n",
    "These sorts of open-ended assignments can be challenging. Please ask us for help. Talk to us in person after class, come to office hours, or post a question to Piazza.\n",
    "\n",
    "## Submitting\n",
    "\n",
    "The submission code is at the end of this notebook. Be aware that if you execute the entire notebook, the final block will likely need your verification and will wait for it rather than running additional code."
   ]
  },
  {
   "cell_type": "markdown",
   "metadata": {},
   "source": [
    "***\n",
    "***\n",
    "\n",
    "## Grading Rubric\n",
    " \n",
    "### General Guidelines\n",
    "* The due date and time is provided in Moodle.  Any code submitted after that time will have the late penalty from the syllabus applied.\n",
    "* The evaluator will use informed judgement in assessing the notebook.\n",
    "* In all cases a rating of Not Met is given if the required element is not recognizably present. It is the responsibility of the student to include each element.\n",
    "* Ratings converted to percentages as follows: Not Met, 0%; Poor, 60%, Adequate 80%, Excellent 100%\n",
    " \n",
    "### Compelling Research Question (10%):\n",
    "* Not Met: The research question was absent or had no clear connection to the assignment.\n",
    "* Poor: The research question was confusing or ambiguous.\n",
    "* Adequate: The research question was well defined, but not interesting or well elaborated.\n",
    "* Excellent: The research question was clear, well defined, interesting, and well elaborated.\n",
    "\n",
    "### Documentation and Statement of Ethics (10%): \n",
    "* Not Met: The documentation and/or statement of ethics was absent or had no clear connection to the assignment.\n",
    "* Poor: The documentation and/or statement of ethics was confusing or ambiguous.\n",
    "* Adequate: The documentation and/or statement of ethics was complete and clear, but not well elaborated.\n",
    "* Excellent: The documentation and/or statement of ethics was complete, clear, thoughtful, and well elaborated.\n",
    "\n",
    "### Code Specifications and Correctness (20%):\n",
    "For more details on Specifications and Correctness see the [course programming rubric](https://sun.iwu.edu/~mliffito/class/2018f/csds125/rubric.php). \n",
    "* Not Met: Many or most code blocks only function correctly in very limited cases or not at all.\n",
    "* Poor: Significant details of the specification are violated, some code blocks exhibit incorrect behavior.\n",
    "* Adequate: Minor details of the program specification are violated.\n",
    "* Excellent: No errors, all code blocks work correctly and meets the specifications.\n",
    "\n",
    "### Code Readability and Documentation (10%): \n",
    "Documentation includes Markdown cells and inline comments in code cells that explain what the code does. \n",
    "Readability includes using indentation consistently, adding whitespace (blank lines, spaces) where appropriate, giving variables meaningful names, and organizing the code well.\n",
    "For more details on Readability and Documentation see the [course programming rubric](https://sun.iwu.edu/~mliffito/class/2018f/csds125/rubric.php). \n",
    "* Not Met: Code is not documented, and/or is not readable.\n",
    "* Poor: Code is poorly documented, and/or is difficult to read.\n",
    "* Adequate: Code is documented and is readable, but may contains minor issues.\n",
    "* Excellent: Code is well documented and is clearly readable.\n",
    "\n",
    "### Statistics (15%): The notebook used appropriate statistics to describe the data and answer the research question.\n",
    "* Not Met: The statistics were absent or had no clear connection to the assignment.\n",
    "* Poor: The statistics were inappropriate for the questions, or was incorrectly interpreted.\n",
    "* Adequate: The statistics and the interpretation of the statistics were generally correct but lacked some degree of clarity or meaningful relationship.\n",
    "* Excellent: The statistics and the interpretation of the statistics were was appropriate to the questions, and were interpreted correctly and clearly to answer the question.\n",
    "\n",
    "### Visualization Selection (15%): The notebook used a visualization appropriate for answering the research question.\n",
    "* Not Met: The visualization was absent or had no clear connection to the assignment.\n",
    "* Poor: Visualization was inappropriate to the questions, or was incorrectly interpreted.\n",
    "* Adequate: The kind of visualization, its interpretations, and the answer were generally correct but lacked some degree of clarity or meaningful relationship.\n",
    "* Excellent: The visualization was appropriate to the questions, and was interpreted correctly and clearly to answer the question.\n",
    "\n",
    "### Visualization Presentation (10%): Visualizations presented with appropriate formatting (y-axis scaling, labelling axes, title, labelled categories, etc).\n",
    "* Not Met: Visualization formatting was absent.\n",
    "* Poor: Visualization formatting was partially absent or inappropriate.\n",
    "* Adequate: Visualization formatting was generally correct but omitted small elements or had some small elements that could be improved.\n",
    "* Excellent:  Visualization formatting was correct and complete.\n",
    "\n",
    "### Notebook Design (10%): The notebook was clear, succinct, and appropriately designed.\n",
    "* Not Met: The notebook had no clear connection to the assignment.\n",
    "* Poor: The statements were confusing or ambiguous; the notebook was difficult to read or contained distracting or irrelevant materials.\n",
    "* Adequate: The statements were generally clear but were awkwardly phrased or overly verbose; the notebook was easily readable.\n",
    "* Excellent: The statements of the questions and answers clearly understandable; the notebook used a layout that was easily readable and attractive visually."
   ]
  },
  {
   "cell_type": "markdown",
   "metadata": {},
   "source": [
    "***\n",
    "***\n",
    "***\n",
    "***"
   ]
  },
  {
   "cell_type": "markdown",
   "metadata": {},
   "source": [
    "**Edit the markdown blocks below. Replace the instructions for each section with information about your project.**\n",
    "\n",
    "# Title of Your Analysis (replace this with your title)\n",
    "* The title should succinctly convey the key question or finding.\n",
    "* In a few sentences identify the research question you will explore with the dataset. Explain why the research question is of interest to you, and may be of interest to a potential audience.\n"
   ]
  },
  {
   "cell_type": "markdown",
   "metadata": {},
   "source": [
    "***\n",
    "## Authorship and Resources Used\n",
    "* Include your name here.\n",
    "* Include the date of authorship here.\n",
    "* If you received any assistance from anyone else, state who you consulted and specifically how they helped.\n",
    "* If you used any other resources, state what they were and specifically how they helped, include links to the resources. [Markdown links use this formatting.](https://github.com/adam-p/markdown-here/wiki/Markdown-Cheatsheet#links)"
   ]
  },
  {
   "cell_type": "markdown",
   "metadata": {},
   "source": [
    "***\n",
    "## Data Description and Source\n",
    "* In a few sentences describe the dataset you selected for analysis.\n",
    "* Data attribution: describe where the data came from, provide links."
   ]
  },
  {
   "cell_type": "markdown",
   "metadata": {},
   "source": [
    "***\n",
    "## Ethics\n",
    "* In a few sentences, identify any potential harm that might result from your analysis. If you see no possible harm, state your reasons. If you do see potential harm, identify who might be at risk. "
   ]
  },
  {
   "cell_type": "markdown",
   "metadata": {},
   "source": [
    "***\n",
    "## Import Libraries and Set Preferences for Visualization"
   ]
  },
  {
   "cell_type": "code",
   "execution_count": null,
   "metadata": {},
   "outputs": [],
   "source": [
    "# enter and test your code here"
   ]
  },
  {
   "cell_type": "markdown",
   "metadata": {},
   "source": [
    "***\n",
    "## Read and Verify Data"
   ]
  },
  {
   "cell_type": "code",
   "execution_count": null,
   "metadata": {},
   "outputs": [],
   "source": [
    "# enter and test your code here"
   ]
  },
  {
   "cell_type": "markdown",
   "metadata": {},
   "source": [
    "***\n",
    "## Descriptive Statistics and Visualizations\n",
    "* In each step you need to clearly articulate what you are doing, why you are doing it, and what you have learned from each step.\n",
    "* Provide a specific clear and concise justication for why the types of visualization(s) you chose are well suited to the data and your question."
   ]
  },
  {
   "cell_type": "code",
   "execution_count": null,
   "metadata": {},
   "outputs": [],
   "source": [
    "# enter and test your code here"
   ]
  },
  {
   "cell_type": "markdown",
   "metadata": {},
   "source": [
    "***\n",
    "## Conclusions\n",
    "* Provide a summary of your results and a discussion of what has been learned from your project"
   ]
  },
  {
   "cell_type": "markdown",
   "metadata": {},
   "source": [
    "***\n",
    "***\n",
    "***\n",
    "***\n",
    "## Submitting\n",
    "\n",
    "Once you're finished, select \"Save Notebook\" in the File menu (or press the Save icon, or press <kbd>Ctrl+S</kbd>) and then execute the cell below. The result will contain a link that you can use to check that your assignment has been submitted successfully. You can re-run the cell and submit more than once before the deadline. We will only grade your final submission.\n",
    "\n",
    "*[It may print some errors saying \"Javascript Error: IPython is not defined\"; those may safely be ignored.]*"
   ]
  },
  {
   "cell_type": "code",
   "execution_count": null,
   "metadata": {},
   "outputs": [],
   "source": [
    "# This cell is just for submitting your work.  Do not change anything in it.\n",
    "from client.api.notebook import Notebook\n",
    "ok = Notebook('A8.ok')\n",
    "import os\n",
    "if not os.path.exists(os.path.join(os.environ.get(\"HOME\"), \".config/ok/auth_refresh\")):\n",
    "    ok.auth(force=True)\n",
    "else:\n",
    "    ok.auth(inline=True)\n",
    "_ = ok.submit()"
   ]
  }
 ],
 "metadata": {
  "kernelspec": {
   "display_name": "Python 3",
   "language": "python",
   "name": "python3"
  },
  "language_info": {
   "codemirror_mode": {
    "name": "ipython",
    "version": 3
   },
   "file_extension": ".py",
   "mimetype": "text/x-python",
   "name": "python",
   "nbconvert_exporter": "python",
   "pygments_lexer": "ipython3",
   "version": "3.6.5"
  }
 },
 "nbformat": 4,
 "nbformat_minor": 2
}
