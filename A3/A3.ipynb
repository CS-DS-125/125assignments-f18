{
 "cells": [
  {
   "cell_type": "markdown",
   "metadata": {},
   "source": [
    "# Assignment 3: Strings and Lists"
   ]
  },
  {
   "cell_type": "markdown",
   "metadata": {},
   "source": [
    "You are a teaching assistant for Professor Shelley, a somewhat eccentric literature professor. You need to write a program to help Professor Shelley calculate grades for her \"Ethics in Literature\" class.  Her grades are based on ethics papers, which are graded with letter grades (B+, A-, C, etc.), and exams, which are graded on a 100-point scale.  She drops the lowest exam grade and the lowest two paper grades.  The problems below all involve writing code to help her calculate final grades for her class."
   ]
  },
  {
   "cell_type": "markdown",
   "metadata": {},
   "source": [
    "[The percentages listed after each problem indicate how much each one will contribute to the \"correctness\" portion of the grade for this assignment.  The other grading criteria from the rubric will be applied across all your code.]"
   ]
  },
  {
   "cell_type": "markdown",
   "metadata": {},
   "source": [
    "## Submitting\n",
    "\n",
    "Once you're finished, select \"Save Notebook\" in the File menu (or press the Save icon, or press <kbd>Ctrl+S</kbd>) and then execute the cell below. The result will contain a link that you can use to check that your assignment has been submitted successfully. You can re-run the cell and submit more than once before the deadline. We will only grade your final submission.\n",
    "\n",
    "*[It may print some errors saying \"Javascript Error: IPython is not defined\"; those may safely be ignored.]*"
   ]
  },
  {
   "cell_type": "code",
   "execution_count": null,
   "metadata": {},
   "outputs": [],
   "source": [
    "# This cell is just for submitting your work.  Do not change anything in it.\n",
    "from client.api.notebook import Notebook\n",
    "ok = Notebook('A3.ok')\n",
    "import os\n",
    "if not os.path.exists(os.path.join(os.environ.get(\"HOME\"), \".config/ok/auth_refresh\")):\n",
    "    ok.auth(force=True)\n",
    "else:\n",
    "    ok.auth(inline=True)\n",
    "_ = ok.submit()"
   ]
  },
  {
   "cell_type": "markdown",
   "metadata": {},
   "source": [
    "***"
   ]
  },
  {
   "cell_type": "markdown",
   "metadata": {},
   "source": [
    "## Problem 1 (30%)"
   ]
  },
  {
   "cell_type": "markdown",
   "metadata": {},
   "source": [
    "To allow her to compute numerical averages, Professor Shelley wants to convert her ethics paper letter grades into numeric grades using a scale of 100. She assigns numeric scores in two steps:\n",
    "1. Convert the base letter grade into a base numeric grade:  A=95, B=85, C=75, D=65, F=55.\n",
    "2. If the letter ends with a minus sign (-) subtract three points, and if the letter grade ends with a plus sign (+) add three points.\n",
    "\n",
    "Define a function called `letter_to_score()` that:\n",
    "1. takes a **single argument**: a string containing the letter grade to convert,\n",
    "2. converts the letter grade to a score following the two step process above, and\n",
    "3. **returns** the resulting score as an integer."
   ]
  },
  {
   "cell_type": "markdown",
   "metadata": {},
   "source": [
    "You may want to use one conditional for the first step (converting a letter to an integer) and another conditional for the second step (adding or subtracting 3 based on the presence of + or - signs)."
   ]
  },
  {
   "cell_type": "code",
   "execution_count": null,
   "metadata": {},
   "outputs": [],
   "source": [
    "# Define the letter_to_score() function here."
   ]
  },
  {
   "cell_type": "markdown",
   "metadata": {},
   "source": [
    "### Tests\n",
    "Executing the cell below will run some tests on the `letter_to_score()` function you define above.  It converts a list of letter grade strings to integers using the function.  If the function is working correctly, it should print:\n",
    "```\n",
    "A+: 98\n",
    "B-: 82\n",
    "C : 75\n",
    "D+: 68\n",
    "```"
   ]
  },
  {
   "cell_type": "code",
   "execution_count": null,
   "metadata": {},
   "outputs": [],
   "source": [
    "### Do not change this cell ###\n",
    "# Tests for letter_to_score()\n",
    "for grade in [\"A+\", \"B-\", \"C\", \"D+\"]:\n",
    "    score = letter_to_score(grade)\n",
    "    print(\"{:2}: {}\".format(grade, score))"
   ]
  },
  {
   "cell_type": "markdown",
   "metadata": {},
   "source": [
    "***"
   ]
  },
  {
   "cell_type": "markdown",
   "metadata": {},
   "source": [
    "## Problem 2 (20%)"
   ]
  },
  {
   "cell_type": "markdown",
   "metadata": {},
   "source": [
    "Professor Shelley drops the lowest exam grade, the lowest paper grade, and the two lowest quiz grades at the end of the semester. Define a function called `drop_lowest()` that takes two arguments:\n",
    "1. The number of items to drop (an integer)\n",
    "2. The list of scores to drop the items from (a list of integers)"
   ]
  },
  {
   "cell_type": "code",
   "execution_count": null,
   "metadata": {},
   "outputs": [],
   "source": [
    "# Define the drop_lowest() function here."
   ]
  },
  {
   "cell_type": "markdown",
   "metadata": {},
   "source": [
    "### Tests\n",
    "Executing the cell below will run some tests on the `drop_lowest()` function you define above.  It generates a series of randomized lists of scores and prints the list before and after using `drop_lowest()` to drop some of those scores.  You can verify that your function is working correctly by making sure the right scores are dropped in each case."
   ]
  },
  {
   "cell_type": "code",
   "execution_count": null,
   "metadata": {},
   "outputs": [],
   "source": [
    "### Do not change this cell ###\n",
    "# Tests for drop_lowest()\n",
    "import random\n",
    "for i in range(4):\n",
    "    scores = []\n",
    "    for j in range(5):\n",
    "        scores.append(random.randint(0,100))\n",
    "    after_dropped = drop_lowest(i, scores[:])  # using [:] to make a copy of the list and avoid aliasing\n",
    "    print(\"{} with {} lowest dropped: {}\".format(scores, i, after_dropped))"
   ]
  },
  {
   "cell_type": "markdown",
   "metadata": {},
   "source": [
    "***"
   ]
  },
  {
   "cell_type": "markdown",
   "metadata": {},
   "source": [
    "## Problem 3 (40%)"
   ]
  },
  {
   "cell_type": "markdown",
   "metadata": {},
   "source": [
    "The end of the semester has arrived! It's time to caluculate grades for the students.\n",
    "\n",
    "Professor Shelley's grades for all of her students are stored in the file `grades.txt` in the same directory as this notebook.  Open the file to look inside (but don't change anything in it).  You will see that every line contains a student's name, five letter grades for papers, and four exam scores (integers between 0 and 100).  The values in each line are separated with comma `,` characters.\n",
    "\n",
    "Before calculating final grades, Prof. Shelley wants to know what every student's exam average was.  Your task here is to write a program that calculates and prints the average of each student's exam scores.  Prof. Shelley wants the output formatted in an easy-to-read table like this:\n",
    "```\n",
    "Name                   Exam Average\n",
    "Victor Frankenstein    48.00\n",
    "Robert Walton          66.33\n",
    "Justine Moritz         68.67\n",
    "Elizabeth Lavenza      69.67\n",
    "Henry Clerval          78.33\n",
    "Caroline Beaufort      91.67\n",
    "The Monster            100.00\n",
    "```"
   ]
  },
  {
   "cell_type": "markdown",
   "metadata": {},
   "source": [
    "The cell below contains two functions you should use in this program.  Execute the cell to define:\n",
    "\n",
    "1. `get_grades()` opens and reads the data from the `grades.txt` file, returning a list of strings, one for each line in the file.  Use this to get the data your program needs to process.\n",
    "2. `strings_to_ints()` converts a list of strings to a list of integers.  When you read data from a file, numbers will all be read as strings, so this function will be useful when you need to have the exam scores as integers for computing an average."
   ]
  },
  {
   "cell_type": "code",
   "execution_count": null,
   "metadata": {},
   "outputs": [],
   "source": [
    "### Do not change this cell ###\n",
    "\n",
    "# function to read data from grades.txt\n",
    "def get_grades():\n",
    "    '''\n",
    "    Read data from \"grades.txt\" and return a list of strings,\n",
    "    one for each line in the file.\n",
    "    '''\n",
    "    with open(\"grades.txt\") as f:\n",
    "        return [s.strip() for s in f.readlines()]\n",
    "    \n",
    "# function to convert a list of strings to a list of ints\n",
    "def strings_to_ints(stringlist):\n",
    "    '''\n",
    "    Argument: a list of strings representing whole numbers\n",
    "    Return: a list of integers converted from the strings\n",
    "    '''\n",
    "    result = []\n",
    "    for s in stringlist:\n",
    "        int_value = int(s)\n",
    "        result.append(int_value)\n",
    "    return result"
   ]
  },
  {
   "cell_type": "markdown",
   "metadata": {},
   "source": [
    "To write the whole program, you will need to use a loop to iterate over the list of lines you get from `get_grades()`.\n",
    "\n",
    "Your basic approach might be to do the following for each line in the file:\n",
    "1. Split the line on the comma (`,`) characters to get a list of individual entries.\n",
    "2. Pull out the portion of that list that is exam grades.\n",
    "3. Convert the exam grades (currently strings) into integers.\n",
    "4. Compute the average of those exam grades (remember the built-in functions like `sum()` and `len()`!)\n",
    "5. Print the student's name and the exam average in aligned columns, with 2 digits after the score's decimal place."
   ]
  },
  {
   "cell_type": "markdown",
   "metadata": {},
   "source": [
    "[Optional, but it could help:] To start, you might want to use the cell below to prototype and test code for processing a single line.  It is often easier to work out the code for a single line first and *then* write a loop to process all of the lines in the file.  The cell defines a variable containing the first line of the file in a string that you can use for testing."
   ]
  },
  {
   "cell_type": "code",
   "execution_count": null,
   "metadata": {},
   "outputs": [],
   "source": [
    "line = \"Victor Frankenstein,B+,B-,D,F,C-,53,36,55,95\"\n",
    "# Optional: develop your code to process a single line here."
   ]
  },
  {
   "cell_type": "markdown",
   "metadata": {},
   "source": [
    "Write your complete program for this problem in the cell below."
   ]
  },
  {
   "cell_type": "code",
   "execution_count": null,
   "metadata": {},
   "outputs": [],
   "source": [
    "# Write and test your program here."
   ]
  },
  {
   "cell_type": "markdown",
   "metadata": {},
   "source": [
    "***"
   ]
  },
  {
   "cell_type": "markdown",
   "metadata": {},
   "source": [
    "## Problem 4 (10%)"
   ]
  },
  {
   "cell_type": "markdown",
   "metadata": {},
   "source": [
    "Now you can tie it all together to calculate and print the final scores in Professor Shelley's class.\n",
    "\n",
    "Again, get the grade data from `grades.txt` using the `get_grades()` function already defined above.\n",
    "\n",
    "For each student:\n",
    "1. Extract separate lists of paper grades and exam scores.\n",
    "2. Convert the paper grades into numerical scores using `letter_to_score()`.\n",
    "3. Drop the lowest 2 paper scores and the lowest 1 exam score using `drop_lowest()`.\n",
    "4. Calculate the average of all remaining scores.\n",
    "5. Print the student's name and the final score in aligned columns, with 2 digits after the score's decimal place.\n",
    "\n",
    "Again, make sure the results are printed in a nicely-formatted table.  For example:\n",
    "```\n",
    "Name                   Final Score\n",
    "Victor Frankenstein    74.17\n",
    "Robert Walton          85.00\n",
    "Justine Moritz         82.67\n",
    "Elizabeth Lavenza      82.83\n",
    "Henry Clerval          90.00\n",
    "Caroline Beaufort      90.83\n",
    "The Monster            98.00\n",
    "```"
   ]
  },
  {
   "cell_type": "code",
   "execution_count": null,
   "metadata": {},
   "outputs": [],
   "source": [
    "# Write and test your program here."
   ]
  }
 ],
 "metadata": {
  "kernelspec": {
   "display_name": "Python 3",
   "language": "python",
   "name": "python3"
  },
  "language_info": {
   "codemirror_mode": {
    "name": "ipython",
    "version": 3
   },
   "file_extension": ".py",
   "mimetype": "text/x-python",
   "name": "python",
   "nbconvert_exporter": "python",
   "pygments_lexer": "ipython3",
   "version": "3.6.5"
  }
 },
 "nbformat": 4,
 "nbformat_minor": 2
}
